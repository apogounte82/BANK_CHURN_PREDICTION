{
 "cells": [
  {
   "cell_type": "code",
   "execution_count": 30,
   "metadata": {
    "collapsed": true
   },
   "outputs": [],
   "source": [
    "# We will try to predict, whether a client of a bank is going to leave the bank or not,\n",
    "# within 6 months, based on certain features. The dataset can be found at superdatascience.com\n",
    "import matplotlib.pyplot as plt\n",
    "import pandas as pd\n",
    "import numpy as np\n",
    "%matplotlib inline"
   ]
  },
  {
   "cell_type": "code",
   "execution_count": 16,
   "metadata": {
    "collapsed": true
   },
   "outputs": [],
   "source": [
    "# Importing our dataset\n",
    "dataset = pd.read_csv('C:/Users/tolaros/Desktop/Churn_Modelling.csv')"
   ]
  },
  {
   "cell_type": "code",
   "execution_count": 18,
   "metadata": {},
   "outputs": [
    {
     "data": {
      "text/html": [
       "<div>\n",
       "<style>\n",
       "    .dataframe thead tr:only-child th {\n",
       "        text-align: right;\n",
       "    }\n",
       "\n",
       "    .dataframe thead th {\n",
       "        text-align: left;\n",
       "    }\n",
       "\n",
       "    .dataframe tbody tr th {\n",
       "        vertical-align: top;\n",
       "    }\n",
       "</style>\n",
       "<table border=\"1\" class=\"dataframe\">\n",
       "  <thead>\n",
       "    <tr style=\"text-align: right;\">\n",
       "      <th></th>\n",
       "      <th>RowNumber</th>\n",
       "      <th>CustomerId</th>\n",
       "      <th>Surname</th>\n",
       "      <th>CreditScore</th>\n",
       "      <th>Geography</th>\n",
       "      <th>Gender</th>\n",
       "      <th>Age</th>\n",
       "      <th>Tenure</th>\n",
       "      <th>Balance</th>\n",
       "      <th>NumOfProducts</th>\n",
       "      <th>HasCrCard</th>\n",
       "      <th>IsActiveMember</th>\n",
       "      <th>EstimatedSalary</th>\n",
       "      <th>Exited</th>\n",
       "    </tr>\n",
       "  </thead>\n",
       "  <tbody>\n",
       "    <tr>\n",
       "      <th>0</th>\n",
       "      <td>1</td>\n",
       "      <td>15634602</td>\n",
       "      <td>Hargrave</td>\n",
       "      <td>619</td>\n",
       "      <td>France</td>\n",
       "      <td>Female</td>\n",
       "      <td>42</td>\n",
       "      <td>2</td>\n",
       "      <td>0.00</td>\n",
       "      <td>1</td>\n",
       "      <td>1</td>\n",
       "      <td>1</td>\n",
       "      <td>101348.88</td>\n",
       "      <td>1</td>\n",
       "    </tr>\n",
       "    <tr>\n",
       "      <th>1</th>\n",
       "      <td>2</td>\n",
       "      <td>15647311</td>\n",
       "      <td>Hill</td>\n",
       "      <td>608</td>\n",
       "      <td>Spain</td>\n",
       "      <td>Female</td>\n",
       "      <td>41</td>\n",
       "      <td>1</td>\n",
       "      <td>83807.86</td>\n",
       "      <td>1</td>\n",
       "      <td>0</td>\n",
       "      <td>1</td>\n",
       "      <td>112542.58</td>\n",
       "      <td>0</td>\n",
       "    </tr>\n",
       "    <tr>\n",
       "      <th>2</th>\n",
       "      <td>3</td>\n",
       "      <td>15619304</td>\n",
       "      <td>Onio</td>\n",
       "      <td>502</td>\n",
       "      <td>France</td>\n",
       "      <td>Female</td>\n",
       "      <td>42</td>\n",
       "      <td>8</td>\n",
       "      <td>159660.80</td>\n",
       "      <td>3</td>\n",
       "      <td>1</td>\n",
       "      <td>0</td>\n",
       "      <td>113931.57</td>\n",
       "      <td>1</td>\n",
       "    </tr>\n",
       "    <tr>\n",
       "      <th>3</th>\n",
       "      <td>4</td>\n",
       "      <td>15701354</td>\n",
       "      <td>Boni</td>\n",
       "      <td>699</td>\n",
       "      <td>France</td>\n",
       "      <td>Female</td>\n",
       "      <td>39</td>\n",
       "      <td>1</td>\n",
       "      <td>0.00</td>\n",
       "      <td>2</td>\n",
       "      <td>0</td>\n",
       "      <td>0</td>\n",
       "      <td>93826.63</td>\n",
       "      <td>0</td>\n",
       "    </tr>\n",
       "    <tr>\n",
       "      <th>4</th>\n",
       "      <td>5</td>\n",
       "      <td>15737888</td>\n",
       "      <td>Mitchell</td>\n",
       "      <td>850</td>\n",
       "      <td>Spain</td>\n",
       "      <td>Female</td>\n",
       "      <td>43</td>\n",
       "      <td>2</td>\n",
       "      <td>125510.82</td>\n",
       "      <td>1</td>\n",
       "      <td>1</td>\n",
       "      <td>1</td>\n",
       "      <td>79084.10</td>\n",
       "      <td>0</td>\n",
       "    </tr>\n",
       "  </tbody>\n",
       "</table>\n",
       "</div>"
      ],
      "text/plain": [
       "   RowNumber  CustomerId   Surname  CreditScore Geography  Gender  Age  \\\n",
       "0          1    15634602  Hargrave          619    France  Female   42   \n",
       "1          2    15647311      Hill          608     Spain  Female   41   \n",
       "2          3    15619304      Onio          502    France  Female   42   \n",
       "3          4    15701354      Boni          699    France  Female   39   \n",
       "4          5    15737888  Mitchell          850     Spain  Female   43   \n",
       "\n",
       "   Tenure    Balance  NumOfProducts  HasCrCard  IsActiveMember  \\\n",
       "0       2       0.00              1          1               1   \n",
       "1       1   83807.86              1          0               1   \n",
       "2       8  159660.80              3          1               0   \n",
       "3       1       0.00              2          0               0   \n",
       "4       2  125510.82              1          1               1   \n",
       "\n",
       "   EstimatedSalary  Exited  \n",
       "0        101348.88       1  \n",
       "1        112542.58       0  \n",
       "2        113931.57       1  \n",
       "3         93826.63       0  \n",
       "4         79084.10       0  "
      ]
     },
     "execution_count": 18,
     "metadata": {},
     "output_type": "execute_result"
    }
   ],
   "source": [
    "# Exploring\n",
    "dataset.head()"
   ]
  },
  {
   "cell_type": "code",
   "execution_count": 19,
   "metadata": {},
   "outputs": [
    {
     "name": "stdout",
     "output_type": "stream",
     "text": [
      "<class 'pandas.core.frame.DataFrame'>\n",
      "RangeIndex: 10000 entries, 0 to 9999\n",
      "Data columns (total 14 columns):\n",
      "RowNumber          10000 non-null int64\n",
      "CustomerId         10000 non-null int64\n",
      "Surname            10000 non-null object\n",
      "CreditScore        10000 non-null int64\n",
      "Geography          10000 non-null object\n",
      "Gender             10000 non-null object\n",
      "Age                10000 non-null int64\n",
      "Tenure             10000 non-null int64\n",
      "Balance            10000 non-null float64\n",
      "NumOfProducts      10000 non-null int64\n",
      "HasCrCard          10000 non-null int64\n",
      "IsActiveMember     10000 non-null int64\n",
      "EstimatedSalary    10000 non-null float64\n",
      "Exited             10000 non-null int64\n",
      "dtypes: float64(2), int64(9), object(3)\n",
      "memory usage: 1.1+ MB\n"
     ]
    }
   ],
   "source": [
    "dataset.info()"
   ]
  },
  {
   "cell_type": "code",
   "execution_count": 20,
   "metadata": {},
   "outputs": [
    {
     "data": {
      "text/plain": [
       "RowNumber          0\n",
       "CustomerId         0\n",
       "Surname            0\n",
       "CreditScore        0\n",
       "Geography          0\n",
       "Gender             0\n",
       "Age                0\n",
       "Tenure             0\n",
       "Balance            0\n",
       "NumOfProducts      0\n",
       "HasCrCard          0\n",
       "IsActiveMember     0\n",
       "EstimatedSalary    0\n",
       "Exited             0\n",
       "dtype: int64"
      ]
     },
     "execution_count": 20,
     "metadata": {},
     "output_type": "execute_result"
    }
   ],
   "source": [
    "dataset.isnull().sum()"
   ]
  },
  {
   "cell_type": "code",
   "execution_count": null,
   "metadata": {
    "collapsed": true
   },
   "outputs": [],
   "source": [
    "# We have no missing values, thanks to data preprocessing of the owner\n",
    "# Selecting Features: We will exclude the first three columns (RowNumber,CustomerId,Surname), that have \n",
    "# no impact whatsoever on the possibility of someone leaving the bank and we choose to encode the Geography \n",
    "# and Gender columns(columns 4 and 5), because we want to use them. All the other columns are in numeric type,\n",
    "#so let's begin. Our target column is \"Exited'"
   ]
  },
  {
   "cell_type": "code",
   "execution_count": 21,
   "metadata": {
    "collapsed": true
   },
   "outputs": [],
   "source": [
    "X = dataset.iloc[:, 3:13].values\n",
    "y = dataset.iloc[:, 13].values"
   ]
  },
  {
   "cell_type": "code",
   "execution_count": 22,
   "metadata": {
    "collapsed": true
   },
   "outputs": [],
   "source": [
    "#####   ENCODING CATEGORICAL DATA   #####\n",
    "# The columns we need to encode, have changed position in the X object. Now, their positions are 1 and 2.\n",
    "# Encoding of the first variable 'Geography'\n",
    "from sklearn.preprocessing import LabelEncoder, OneHotEncoder\n",
    "labelencoder_Geog = LabelEncoder()\n",
    "X[:, 1] = labelencoder_Geog.fit_transform(X[: , 1])"
   ]
  },
  {
   "cell_type": "code",
   "execution_count": 23,
   "metadata": {},
   "outputs": [
    {
     "data": {
      "text/plain": [
       "array([[619, 0, 'Female', ..., 1, 1, 101348.88],\n",
       "       [608, 2, 'Female', ..., 0, 1, 112542.58],\n",
       "       [502, 0, 'Female', ..., 1, 0, 113931.57],\n",
       "       ..., \n",
       "       [709, 0, 'Female', ..., 0, 1, 42085.58],\n",
       "       [772, 1, 'Male', ..., 1, 0, 92888.52],\n",
       "       [792, 0, 'Female', ..., 1, 0, 38190.78]], dtype=object)"
      ]
     },
     "execution_count": 23,
     "metadata": {},
     "output_type": "execute_result"
    }
   ],
   "source": [
    "# If we take a look at X now, we can see that each country has a value instead of the country name\n",
    "X"
   ]
  },
  {
   "cell_type": "code",
   "execution_count": 24,
   "metadata": {
    "collapsed": true
   },
   "outputs": [],
   "source": [
    "# We will do the same for the Gender column\n",
    "labelencoder_Gend = LabelEncoder()\n",
    "X[:, 2] = labelencoder_Gend.fit_transform(X[: ,2 ])"
   ]
  },
  {
   "cell_type": "code",
   "execution_count": 25,
   "metadata": {
    "collapsed": true
   },
   "outputs": [],
   "source": [
    "# The column with the countries, has values 0,1,2 , BUT they are not ordinal (meaning the 2 value is not\n",
    "# greater or \"better\" than the 0 value). Still, our model, can not and will not understand this detail.\n",
    "# To avoid this confusion, we will create dummy variables, using onehotencoder\n",
    "onehotencoder = OneHotEncoder(categorical_features=[1])\n",
    "X = onehotencoder.fit_transform(X).toarray()"
   ]
  },
  {
   "cell_type": "code",
   "execution_count": 26,
   "metadata": {
    "collapsed": true
   },
   "outputs": [],
   "source": [
    "# splitting the dataset\n",
    "from sklearn.model_selection import train_test_split\n",
    "X_train, X_test , y_train , y_test = train_test_split(X, y , test_size=0.2, stratify = y, random_state=0)"
   ]
  },
  {
   "cell_type": "code",
   "execution_count": 28,
   "metadata": {
    "collapsed": true
   },
   "outputs": [],
   "source": [
    "# We will use three classifiers: RandomForestClassifier, LogisticRegression and XGboost\n",
    "# Importing the classifiers\n",
    "from sklearn.ensemble import RandomForestClassifier\n",
    "classifier1 = RandomForestClassifier(random_state = 42)\n",
    "from sklearn.linear_model import LogisticRegression\n",
    "classifier2 = LogisticRegression(random_state=42)\n",
    "import xgboost as xgb\n",
    "from xgboost import XGBClassifier\n",
    "classifier3 = XGBClassifier(random_state = 42)"
   ]
  },
  {
   "cell_type": "code",
   "execution_count": 29,
   "metadata": {},
   "outputs": [
    {
     "name": "stdout",
     "output_type": "stream",
     "text": [
      "[0.55538221528861154, 0.0048899755501222494, 0.56651017214397492] [0.85750000000000004, 0.79649999999999999, 0.86150000000000004] [0.76068376068376065, 0.5, 0.78017241379310343]\n"
     ]
    }
   ],
   "source": [
    "# We will compare the f1 score,the accuracy and the precision of each one.\n",
    "classifierslist = [classifier1, classifier2, classifier3]\n",
    "f1list = []\n",
    "acclist = []\n",
    "preclist = []\n",
    "for classifier in classifierslist:\n",
    "    classifier.fit(X_train, y_train)\n",
    "    y_pred = classifier.predict(X_test)\n",
    "    from sklearn.metrics import accuracy_score\n",
    "    from sklearn.metrics import f1_score\n",
    "    acc = accuracy_score(y_test, y_pred)\n",
    "    from sklearn.metrics import precision_score\n",
    "    ps = precision_score(y_test, y_pred)\n",
    "    f1 = f1_score(y_test , y_pred)\n",
    "    f1list.append(f1)\n",
    "    acclist.append(acc)\n",
    "    preclist.append(ps)\n",
    "    \n",
    "print(f1list,acclist,preclist)\n",
    "pd.Series(f1list,acclist,preclist)\n",
    "pd.Series(f1list).p;ot(kind = 'bar')\n"
   ]
  },
  {
   "cell_type": "code",
   "execution_count": 34,
   "metadata": {},
   "outputs": [
    {
     "data": {
      "text/plain": [
       "<matplotlib.axes._subplots.AxesSubplot at 0xdb45748>"
      ]
     },
     "execution_count": 34,
     "metadata": {},
     "output_type": "execute_result"
    },
    {
     "data": {
      "image/png": "[encoded data removed]",
      "text/plain": [
       "<matplotlib.figure.Figure at 0xdb10390>"
      ]
     },
     "metadata": {},
     "output_type": "display_data"
    }
   ],
   "source": [
    "# We can see that the XGboost classifier is slightly better than the RandomForestClassifier, both in accuracy\n",
    "# and precision. Let's try to quickly optimize it,\"tweaking\" two common hyperparameters, n_estimators and \n",
    "# max_depth. By default the n_estimators is set to 100. We will check some other cases and see how accuracy\n",
    "# and precision behave\n",
    "precision = []\n",
    "accuracy = []\n",
    "n_estimators = [25,50,100,200,500,750,1000]\n",
    "for i in n_estimators:\n",
    "    classifier = XGBClassifier(random_state = 42 , n_estimators = i)\n",
    "    classifier.fit(X_train, y_train)\n",
    "    y_pred = classifier.predict(X_test)\n",
    "    from sklearn.metrics import precision_score  \n",
    "    ps = precision_score(y_test, y_pred)\n",
    "    from sklearn.metrics import accuracy_score\n",
    "    acc = accuracy_score(y_test, y_pred)\n",
    "    precision.append(ps)\n",
    "    accuracy.append(acc)\n",
    "    \n",
    "pd.Series(precision, n_estimators).plot(color = 'green')\n",
    "pd.Series(accuracy, n_estimators).plot(color = 'red')"
   ]
  },
  {
   "cell_type": "code",
   "execution_count": 37,
   "metadata": {},
   "outputs": [
    {
     "data": {
      "text/plain": [
       "<matplotlib.axes._subplots.AxesSubplot at 0xdc87a20>"
      ]
     },
     "execution_count": 37,
     "metadata": {},
     "output_type": "execute_result"
    },
    {
     "data": {
      "image/png": "[encoded data removed]",
      "text/plain": [
       "<matplotlib.figure.Figure at 0xdc415f8>"
      ]
     },
     "metadata": {},
     "output_type": "display_data"
    }
   ],
   "source": [
    "# Accuracy reaches a high at approx. n_estimators = 100.If we increase the n_estimators above 100, \n",
    "# the accuracy decreases at a very low rate(still above 84%) but the precision decreases substantially. \n",
    "# So let's see what happens for values of n_estimators  between 0-200\n",
    "precision = []\n",
    "accuracy = []\n",
    "n_estimators = [20,40,60,80,100,120,140,160,180,200]\n",
    "for i in n_estimators:\n",
    "    classifier = XGBClassifier(random_state = 42 , n_estimators = i)\n",
    "    classifier.fit(X_train, y_train)\n",
    "    y_pred = classifier.predict(X_test)\n",
    "    from sklearn.metrics import precision_score  \n",
    "    ps = precision_score(y_test, y_pred)\n",
    "    from sklearn.metrics import accuracy_score\n",
    "    acc = accuracy_score(y_test, y_pred)\n",
    "    precision.append(ps)\n",
    "    accuracy.append(acc)\n",
    "    \n",
    "pd.Series(precision, n_estimators).plot(color = 'green')\n",
    "pd.Series(accuracy, n_estimators).plot(color = 'red') "
   ]
  },
  {
   "cell_type": "code",
   "execution_count": 40,
   "metadata": {},
   "outputs": [
    {
     "data": {
      "text/plain": [
       "20     0.790576\n",
       "40     0.797980\n",
       "60     0.778302\n",
       "80     0.777778\n",
       "100    0.780172\n",
       "120    0.776371\n",
       "140    0.769874\n",
       "160    0.764463\n",
       "180    0.750000\n",
       "200    0.747967\n",
       "dtype: float64"
      ]
     },
     "execution_count": 40,
     "metadata": {},
     "output_type": "execute_result"
    }
   ],
   "source": [
    "prec = pd.Series(precision, n_estimators)\n",
    "prec"
   ]
  },
  {
   "cell_type": "code",
   "execution_count": 42,
   "metadata": {},
   "outputs": [
    {
     "data": {
      "text/plain": [
       "20     0.8520\n",
       "40     0.8555\n",
       "60     0.8555\n",
       "80     0.8590\n",
       "100    0.8615\n",
       "120    0.8620\n",
       "140    0.8610\n",
       "160    0.8605\n",
       "180    0.8585\n",
       "200    0.8575\n",
       "dtype: float64"
      ]
     },
     "execution_count": 42,
     "metadata": {},
     "output_type": "execute_result"
    }
   ],
   "source": [
    "accur = pd.Series(accuracy, n_estimators)\n",
    "accur"
   ]
  },
  {
   "cell_type": "code",
   "execution_count": null,
   "metadata": {
    "collapsed": true
   },
   "outputs": [],
   "source": [
    "# We have a dilemma. Accuracy is best at 120, but precision is best at 40. I will choose to stick\n",
    "# with the precision metric (my decision is controversial), because the decline of accuracy,is \n",
    "# (0.862-0.8555)/0.862 = 0.008 ,less than 1%, while the increase in precision is, (0.798-0.776)/0.776\n",
    "# =0.283 almost 3%, AND personally I am mostly interested in predicting better those who are most\n",
    "# likely to leave"
   ]
  },
  {
   "cell_type": "code",
   "execution_count": 43,
   "metadata": {},
   "outputs": [
    {
     "data": {
      "text/plain": [
       "<matplotlib.axes._subplots.AxesSubplot at 0xdcad240>"
      ]
     },
     "execution_count": 43,
     "metadata": {},
     "output_type": "execute_result"
    },
    {
     "data": {
      "image/png": "[encoded data removed]",
      "text/plain": [
       "<matplotlib.figure.Figure at 0xdcd8588>"
      ]
     },
     "metadata": {},
     "output_type": "display_data"
    }
   ],
   "source": [
    "# We select the value of 40. Next we will apply the same method for the max depth hyperparameter\n",
    "precision2 = []\n",
    "accuracy2 = []\n",
    "maxdepth = [1,5,10,20,50]\n",
    "for i in maxdepth:\n",
    "    classifier = XGBClassifier(random_state = 42 , n_estimators = 40, max_depth = i)\n",
    "    classifier.fit(X_train, y_train)\n",
    "    y_pred = classifier.predict(X_test)\n",
    "    from sklearn.metrics import precision_score  \n",
    "    ps = precision_score(y_test, y_pred)\n",
    "    from sklearn.metrics import accuracy_score\n",
    "    acc = accuracy_score(y_test, y_pred)\n",
    "    precision2.append(ps)\n",
    "    accuracy2.append(acc)\n",
    "    \n",
    "pd.Series(precision2, maxdepth).plot(color = 'green')\n",
    "pd.Series(accuracy2, maxdepth).plot(color = 'red') "
   ]
  },
  {
   "cell_type": "code",
   "execution_count": 44,
   "metadata": {
    "scrolled": true
   },
   "outputs": [
    {
     "data": {
      "text/plain": [
       "<matplotlib.axes._subplots.AxesSubplot at 0xdd18a90>"
      ]
     },
     "execution_count": 44,
     "metadata": {},
     "output_type": "execute_result"
    },
    {
     "data": {
      "image/png": "[encoded data removed]",
      "text/plain": [
       "<matplotlib.figure.Figure at 0xdcdf390>"
      ]
     },
     "metadata": {},
     "output_type": "display_data"
    }
   ],
   "source": [
    "# The accuracy maximizes at maxdepth = 5 and remains steady afterwards. The precision on the other hand\n",
    "# increases a lot as max depth decreases. Let's see what happens for maxdepth prices between 1-5\n",
    "precision2 = []\n",
    "accuracy2 = []\n",
    "maxdepth = [1,2,3,4,5]\n",
    "for i in maxdepth:\n",
    "    classifier = XGBClassifier(random_state = 42 , n_estimators = 40, max_depth = i)\n",
    "    classifier.fit(X_train, y_train)\n",
    "    y_pred = classifier.predict(X_test)\n",
    "    from sklearn.metrics import precision_score  \n",
    "    ps = precision_score(y_test, y_pred)\n",
    "    from sklearn.metrics import accuracy_score\n",
    "    acc = accuracy_score(y_test, y_pred)\n",
    "    precision2.append(ps)\n",
    "    accuracy2.append(acc)\n",
    "    \n",
    "pd.Series(precision2, maxdepth).plot(color = 'green')\n",
    "pd.Series(accuracy2, maxdepth).plot(color = 'red')"
   ]
  },
  {
   "cell_type": "code",
   "execution_count": 50,
   "metadata": {},
   "outputs": [
    {
     "data": {
      "text/plain": [
       "1    0.8140\n",
       "2    0.8500\n",
       "3    0.8555\n",
       "4    0.8565\n",
       "5    0.8530\n",
       "dtype: float64"
      ]
     },
     "execution_count": 50,
     "metadata": {},
     "output_type": "execute_result"
    }
   ],
   "source": [
    "pd.Series(accuracy2, maxdepth)"
   ]
  },
  {
   "cell_type": "code",
   "execution_count": 53,
   "metadata": {},
   "outputs": [
    {
     "name": "stdout",
     "output_type": "stream",
     "text": [
      "             precision    recall  f1-score   support\n",
      "\n",
      "          0       0.86      0.97      0.91      1593\n",
      "          1       0.80      0.39      0.52       407\n",
      "\n",
      "avg / total       0.85      0.86      0.83      2000\n",
      "\n"
     ]
    }
   ],
   "source": [
    "# I think I will keep the default value of max_depth = 3,meaning a precision of 79.8 % and \n",
    "# an accuracy of 85.56%, fairly good. So, if we re-calculate our metrics, after this quick,\n",
    "# but not the best scientific way,we will have\n",
    "classifier = XGBClassifier(random_state = 42 , n_estimators = 40, max_depth = 3)\n",
    "classifier.fit(X_train, y_train)\n",
    "y_pred = classifier.predict(X_test)\n",
    "from sklearn.metrics import f1_score\n",
    "from sklearn.metrics import confusion_matrix\n",
    "from sklearn.metrics import classification_report\n",
    "from sklearn.metrics import precision_score\n",
    "from sklearn.metrics import accuracy_score\n",
    "clsfrprt = classification_report(y_test, y_pred)\n",
    "cm = confusion_matrix(y_test, y_pred)\n",
    "ps = precision_score(y_test, y_pred)\n",
    "acc = accuracy_score(y_test, y_pred)\n",
    "f1 = f1_score(y_test , y_pred)\n",
    "print(clsfrprt)"
   ]
  },
  {
   "cell_type": "code",
   "execution_count": 54,
   "metadata": {
    "collapsed": true
   },
   "outputs": [],
   "source": [
    "# A very good outcome indeed. The last two things remaining is to apply kfold validation and to compute\n",
    "# the hyperparameters more \"scientificly\" using GridSearch.\n"
   ]
  },
  {
   "cell_type": "code",
   "execution_count": 61,
   "metadata": {},
   "outputs": [
    {
     "name": "stdout",
     "output_type": "stream",
     "text": [
      "0.86175\n",
      "0.0067592529173\n",
      "0.695766887982\n",
      "0.0295169799692\n"
     ]
    }
   ],
   "source": [
    "# APPLYING K-FOLD CROSS VALIDATION\n",
    "from sklearn.model_selection import cross_val_score\n",
    "from sklearn   import metrics\n",
    "precisions = cross_val_score(estimator = classifier, X = X_train, y = y_train, cv = 10, scoring = 'average_precision')\n",
    "accuracies = cross_val_score(estimator = classifier, X = X_train, y = y_train, cv = 10, scoring = 'accuracy')\n",
    "print(accuracies.mean())\n",
    "print(accuracies.std())\n",
    "print(precisions.mean())\n",
    "print(precisions.std())\n"
   ]
  },
  {
   "cell_type": "code",
   "execution_count": 62,
   "metadata": {
    "collapsed": true
   },
   "outputs": [],
   "source": [
    "# We can now observe that the accuracy is more solid than the precision, but still our model is very good\n",
    "# and has low bias or variance. Lastly,let's apply gridsearch to find out the best params for accuracy\n",
    "# and precision\n",
    "from sklearn.model_selection  import GridSearchCV\n",
    "parameters = [{'max_depth':[2,3,5,10 ],  'n_estimators':[20,40,80,100,200]}]\n",
    "gridsearch = GridSearchCV(estimator=classifier, \n",
    "                          param_grid = parameters,\n",
    "                          scoring = 'accuracy',\n",
    "                          cv = 10)\n",
    "gridsearch = gridsearch.fit(X_train, y_train)\n",
    "bestaccuracy = gridsearch.best_score_\n",
    "bestparams = gridsearch.best_params_\n",
    "\n"
   ]
  },
  {
   "cell_type": "code",
   "execution_count": 67,
   "metadata": {},
   "outputs": [
    {
     "name": "stdout",
     "output_type": "stream",
     "text": [
      "0.866125\n",
      "{'max_depth': 5, 'n_estimators': 80}\n"
     ]
    }
   ],
   "source": [
    "print(bestaccuracy)\n",
    "print(bestparams)"
   ]
  },
  {
   "cell_type": "code",
   "execution_count": 71,
   "metadata": {
    "collapsed": true
   },
   "outputs": [],
   "source": [
    "# Applying the same, but computin the best average precision\n",
    "from sklearn.model_selection  import GridSearchCV\n",
    "parameters = [{'max_depth':[2,3,5,10 ],  'n_estimators':[20,40,80,100,200]}]\n",
    "gridsearch = GridSearchCV(estimator=classifier, \n",
    "                          param_grid = parameters,\n",
    "                          scoring = 'average_precision',\n",
    "                          cv = 10)\n",
    "gridsearch = gridsearch.fit(X_train, y_train)\n",
    "bestprecision = gridsearch.best_score_\n",
    "bestparams2 = gridsearch.best_params_"
   ]
  },
  {
   "cell_type": "code",
   "execution_count": 69,
   "metadata": {},
   "outputs": [
    {
     "data": {
      "text/plain": [
       "0.70960090850973123"
      ]
     },
     "execution_count": 69,
     "metadata": {},
     "output_type": "execute_result"
    }
   ],
   "source": [
    "bestprecision\n"
   ]
  },
  {
   "cell_type": "code",
   "execution_count": 72,
   "metadata": {},
   "outputs": [
    {
     "data": {
      "text/plain": [
       "{'max_depth': 5, 'n_estimators': 80}"
      ]
     },
     "execution_count": 72,
     "metadata": {},
     "output_type": "execute_result"
    }
   ],
   "source": [
    "bestparams2"
   ]
  },
  {
   "cell_type": "code",
   "execution_count": null,
   "metadata": {
    "collapsed": true
   },
   "outputs": [],
   "source": [
    "# To conclude, we can see that the optimal parameters using GridSearch are slightly different,\n",
    "# and more precise,than the \"manual\" and \"trial and error\" procedure we used above. Our accuracy, \n",
    "# precision and f1score is much more than just \"acceptable\", and we should be able to predict\n",
    "# a client leaving the bank very accurately. "
   ]
  }
 ],
 "metadata": {
  "kernelspec": {
   "display_name": "Python 3",
   "language": "python",
   "name": "python3"
  },
  "language_info": {
   "codemirror_mode": {
    "name": "ipython",
    "version": 3
   },
   "file_extension": ".py",
   "mimetype": "text/x-python",
   "name": "python",
   "nbconvert_exporter": "python",
   "pygments_lexer": "ipython3",
   "version": "3.6.3"
  }
 },
 "nbformat": 4,
 "nbformat_minor": 2
}
